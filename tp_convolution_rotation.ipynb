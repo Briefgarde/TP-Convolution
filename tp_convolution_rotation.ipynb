{
 "cells": [
  {
   "cell_type": "markdown",
   "metadata": {},
   "source": [
    "# TP2: Convolution\n",
    "\n",
    "In this TP you will implement a simple convolution in 1d and in 2d.\n"
   ]
  },
  {
   "cell_type": "code",
   "execution_count": null,
   "metadata": {},
   "outputs": [
    {
     "name": "stdout",
     "output_type": "stream",
     "text": [
      "Collecting scikit-image\n",
      "  Downloading scikit_image-0.24.0-cp312-cp312-win_amd64.whl.metadata (14 kB)\n",
      "Requirement already satisfied: numpy>=1.23 in c:\\users\\brief\\anaconda3\\envs\\datasciencemain\\lib\\site-packages (from scikit-image) (1.26.4)\n",
      "Requirement already satisfied: scipy>=1.9 in c:\\users\\brief\\anaconda3\\envs\\datasciencemain\\lib\\site-packages (from scikit-image) (1.13.1)\n",
      "Collecting networkx>=2.8 (from scikit-image)\n",
      "  Downloading networkx-3.4.2-py3-none-any.whl.metadata (6.3 kB)\n",
      "Requirement already satisfied: pillow>=9.1 in c:\\users\\brief\\anaconda3\\envs\\datasciencemain\\lib\\site-packages (from scikit-image) (10.4.0)\n",
      "Requirement already satisfied: imageio>=2.33 in c:\\users\\brief\\anaconda3\\envs\\datasciencemain\\lib\\site-packages (from scikit-image) (2.35.1)\n",
      "Collecting tifffile>=2022.8.12 (from scikit-image)\n",
      "  Downloading tifffile-2024.9.20-py3-none-any.whl.metadata (32 kB)\n",
      "Requirement already satisfied: packaging>=21 in c:\\users\\brief\\appdata\\roaming\\python\\python312\\site-packages (from scikit-image) (24.1)\n",
      "Collecting lazy-loader>=0.4 (from scikit-image)\n",
      "  Downloading lazy_loader-0.4-py3-none-any.whl.metadata (7.6 kB)\n",
      "Downloading scikit_image-0.24.0-cp312-cp312-win_amd64.whl (12.9 MB)\n",
      "   ---------------------------------------- 0.0/12.9 MB ? eta -:--:--\n",
      "   ---------------------------------------- 0.0/12.9 MB ? eta -:--:--\n",
      "    --------------------------------------- 0.3/12.9 MB ? eta -:--:--\n",
      "    --------------------------------------- 0.3/12.9 MB ? eta -:--:--\n",
      "   - -------------------------------------- 0.5/12.9 MB 598.5 kB/s eta 0:00:21\n",
      "   -- ------------------------------------- 0.8/12.9 MB 860.9 kB/s eta 0:00:15\n",
      "   --- ------------------------------------ 1.0/12.9 MB 931.8 kB/s eta 0:00:13\n",
      "   ---- ----------------------------------- 1.3/12.9 MB 1.0 MB/s eta 0:00:12\n",
      "   ---- ----------------------------------- 1.6/12.9 MB 987.0 kB/s eta 0:00:12\n",
      "   ----- ---------------------------------- 1.8/12.9 MB 1.0 MB/s eta 0:00:11\n",
      "   ------ --------------------------------- 2.1/12.9 MB 978.7 kB/s eta 0:00:12\n",
      "   ------ --------------------------------- 2.1/12.9 MB 978.7 kB/s eta 0:00:12\n",
      "   ------- -------------------------------- 2.4/12.9 MB 932.1 kB/s eta 0:00:12\n",
      "   -------- ------------------------------- 2.6/12.9 MB 961.8 kB/s eta 0:00:11\n",
      "   -------- ------------------------------- 2.9/12.9 MB 975.2 kB/s eta 0:00:11\n",
      "   --------- ------------------------------ 3.1/12.9 MB 992.3 kB/s eta 0:00:10\n",
      "   ---------- ----------------------------- 3.4/12.9 MB 1.0 MB/s eta 0:00:10\n",
      "   ----------- ---------------------------- 3.7/12.9 MB 1.0 MB/s eta 0:00:09\n",
      "   ------------ --------------------------- 3.9/12.9 MB 1.0 MB/s eta 0:00:09\n",
      "   ------------ --------------------------- 4.2/12.9 MB 1.1 MB/s eta 0:00:09\n",
      "   ------------- -------------------------- 4.5/12.9 MB 1.1 MB/s eta 0:00:08\n",
      "   -------------- ------------------------- 4.7/12.9 MB 1.1 MB/s eta 0:00:08\n",
      "   ---------------- ----------------------- 5.2/12.9 MB 1.1 MB/s eta 0:00:07\n",
      "   ----------------- ---------------------- 5.5/12.9 MB 1.2 MB/s eta 0:00:07\n",
      "   ------------------ --------------------- 6.0/12.9 MB 1.2 MB/s eta 0:00:06\n",
      "   ------------------ --------------------- 6.0/12.9 MB 1.2 MB/s eta 0:00:06\n",
      "   ------------------- -------------------- 6.3/12.9 MB 1.2 MB/s eta 0:00:06\n",
      "   ------------------- -------------------- 6.3/12.9 MB 1.2 MB/s eta 0:00:06\n",
      "   ------------------- -------------------- 6.3/12.9 MB 1.2 MB/s eta 0:00:06\n",
      "   -------------------- ------------------- 6.6/12.9 MB 1.1 MB/s eta 0:00:06\n",
      "   --------------------- ------------------ 7.1/12.9 MB 1.1 MB/s eta 0:00:06\n",
      "   ---------------------- ----------------- 7.3/12.9 MB 1.1 MB/s eta 0:00:05\n",
      "   ----------------------- ---------------- 7.6/12.9 MB 1.1 MB/s eta 0:00:05\n",
      "   ----------------------- ---------------- 7.6/12.9 MB 1.1 MB/s eta 0:00:05\n",
      "   ------------------------ --------------- 7.9/12.9 MB 1.1 MB/s eta 0:00:05\n",
      "   ------------------------ --------------- 7.9/12.9 MB 1.1 MB/s eta 0:00:05\n",
      "   ------------------------ --------------- 7.9/12.9 MB 1.1 MB/s eta 0:00:05\n",
      "   ------------------------- -------------- 8.1/12.9 MB 1.0 MB/s eta 0:00:05\n",
      "   ------------------------- -------------- 8.1/12.9 MB 1.0 MB/s eta 0:00:05\n",
      "   ------------------------- -------------- 8.1/12.9 MB 1.0 MB/s eta 0:00:05\n",
      "   ------------------------- -------------- 8.1/12.9 MB 1.0 MB/s eta 0:00:05\n",
      "   ------------------------- -------------- 8.4/12.9 MB 968.5 kB/s eta 0:00:05\n",
      "   -------------------------- ------------- 8.7/12.9 MB 969.1 kB/s eta 0:00:05\n",
      "   -------------------------- ------------- 8.7/12.9 MB 969.1 kB/s eta 0:00:05\n",
      "   --------------------------- ------------ 8.9/12.9 MB 956.2 kB/s eta 0:00:05\n",
      "   --------------------------- ------------ 8.9/12.9 MB 956.2 kB/s eta 0:00:05\n",
      "   ---------------------------- ----------- 9.2/12.9 MB 950.7 kB/s eta 0:00:04\n",
      "   ---------------------------- ----------- 9.2/12.9 MB 950.7 kB/s eta 0:00:04\n",
      "   ----------------------------- ---------- 9.4/12.9 MB 944.0 kB/s eta 0:00:04\n",
      "   ----------------------------- ---------- 9.7/12.9 MB 942.2 kB/s eta 0:00:04\n",
      "   ----------------------------- ---------- 9.7/12.9 MB 942.2 kB/s eta 0:00:04\n",
      "   ------------------------------ --------- 10.0/12.9 MB 925.2 kB/s eta 0:00:04\n",
      "   ------------------------------ --------- 10.0/12.9 MB 925.2 kB/s eta 0:00:04\n",
      "   ------------------------------ --------- 10.0/12.9 MB 925.2 kB/s eta 0:00:04\n",
      "   ------------------------------ --------- 10.0/12.9 MB 925.2 kB/s eta 0:00:04\n",
      "   ------------------------------ --------- 10.0/12.9 MB 925.2 kB/s eta 0:00:04\n",
      "   ------------------------------- -------- 10.2/12.9 MB 870.9 kB/s eta 0:00:04\n",
      "   ------------------------------- -------- 10.2/12.9 MB 870.9 kB/s eta 0:00:04\n",
      "   ------------------------------- -------- 10.2/12.9 MB 870.9 kB/s eta 0:00:04\n",
      "   ------------------------------- -------- 10.2/12.9 MB 870.9 kB/s eta 0:00:04\n",
      "   -------------------------------- ------- 10.5/12.9 MB 830.3 kB/s eta 0:00:03\n",
      "   --------------------------------- ------ 10.7/12.9 MB 842.0 kB/s eta 0:00:03\n",
      "   ---------------------------------- ----- 11.0/12.9 MB 846.1 kB/s eta 0:00:03\n",
      "   ---------------------------------- ----- 11.3/12.9 MB 848.0 kB/s eta 0:00:02\n",
      "   ---------------------------------- ----- 11.3/12.9 MB 848.0 kB/s eta 0:00:02\n",
      "   ----------------------------------- ---- 11.5/12.9 MB 849.7 kB/s eta 0:00:02\n",
      "   ----------------------------------- ---- 11.5/12.9 MB 849.7 kB/s eta 0:00:02\n",
      "   ----------------------------------- ---- 11.5/12.9 MB 849.7 kB/s eta 0:00:02\n",
      "   ------------------------------------ --- 11.8/12.9 MB 822.9 kB/s eta 0:00:02\n",
      "   ------------------------------------ --- 11.8/12.9 MB 822.9 kB/s eta 0:00:02\n",
      "   ------------------------------------ --- 11.8/12.9 MB 822.9 kB/s eta 0:00:02\n",
      "   ------------------------------------- -- 12.1/12.9 MB 806.6 kB/s eta 0:00:02\n",
      "   -------------------------------------- - 12.3/12.9 MB 812.4 kB/s eta 0:00:01\n",
      "   -------------------------------------- - 12.6/12.9 MB 817.9 kB/s eta 0:00:01\n",
      "   ---------------------------------------  12.8/12.9 MB 824.2 kB/s eta 0:00:01\n",
      "   ---------------------------------------- 12.9/12.9 MB 825.2 kB/s eta 0:00:00\n",
      "Downloading lazy_loader-0.4-py3-none-any.whl (12 kB)\n",
      "Downloading networkx-3.4.2-py3-none-any.whl (1.7 MB)\n",
      "   ---------------------------------------- 0.0/1.7 MB ? eta -:--:--\n",
      "   ------ --------------------------------- 0.3/1.7 MB ? eta -:--:--\n",
      "   ------ --------------------------------- 0.3/1.7 MB ? eta -:--:--\n",
      "   ------------ --------------------------- 0.5/1.7 MB 670.4 kB/s eta 0:00:02\n",
      "   ------------------ --------------------- 0.8/1.7 MB 907.1 kB/s eta 0:00:02\n",
      "   ------------------------------ --------- 1.3/1.7 MB 1.2 MB/s eta 0:00:01\n",
      "   ------------------------------------ --- 1.6/1.7 MB 1.3 MB/s eta 0:00:01\n",
      "   ---------------------------------------- 1.7/1.7 MB 1.3 MB/s eta 0:00:00\n",
      "Downloading tifffile-2024.9.20-py3-none-any.whl (228 kB)\n",
      "Installing collected packages: tifffile, networkx, lazy-loader, scikit-image\n",
      "Successfully installed lazy-loader-0.4 networkx-3.4.2 scikit-image-0.24.0 tifffile-2024.9.20\n"
     ]
    }
   ],
   "source": [
    "#!pip install scikit-image"
   ]
  },
  {
   "cell_type": "code",
   "execution_count": 2,
   "metadata": {},
   "outputs": [],
   "source": [
    "# Run some setup code for this notebook.\n",
    "\n",
    "import random\n",
    "import numpy as np\n",
    "import matplotlib.pyplot as plt\n",
    "from skimage import data, color\n",
    "\n",
    "# make figures appear inline\n",
    "%matplotlib inline\n",
    "\n",
    "# notebook will reload external python modules;\n",
    "# see http://stackoverflow.com/questions/1907993/autoreload-of-modules-in-ipython\n",
    "%load_ext autoreload\n",
    "%autoreload 2"
   ]
  },
  {
   "cell_type": "markdown",
   "metadata": {},
   "source": [
    "## Convolustion with 1d signals\n",
    "\n",
    "We will create a time series, and we will apply a filter (or kernel) to it.\n",
    "To create the time series, we will use the random walk algorithm. Later you will need to fill the missing part in the conv1d function."
   ]
  },
  {
   "cell_type": "code",
   "execution_count": 3,
   "metadata": {},
   "outputs": [
    {
     "data": {
      "image/png": "[encoded data removed]",
      "text/plain": [
       "<Figure size 640x480 with 1 Axes>"
      ]
     },
     "metadata": {},
     "output_type": "display_data"
    }
   ],
   "source": [
    "# Set a random seed so everyone has same results\n",
    "np.random.seed(133)\n",
    "\n",
    "# define a fct that will return a random time series\n",
    "def create_time_serie(n, x_0=10., v=0.05):\n",
    "    time_serie = [x_0]\n",
    "    for _ in range(n-1):\n",
    "        value = time_serie[-1] * (1 + np.random.normal(0, v))\n",
    "        time_serie.append(value)\n",
    "    return np.array(time_serie)\n",
    "\n",
    "# get the time series\n",
    "n = 1000\n",
    "time_serie = create_time_serie(n)\n",
    "\n",
    "# show the time series\n",
    "plt.plot(time_serie)\n",
    "# plt.scatter(range(n), time_serie)\n",
    "plt.show()"
   ]
  },
  {
   "cell_type": "markdown",
   "metadata": {},
   "source": [
    "Now that we have a time series, we can apply a convolution to it. To do so, fill the missing part in the function (conv1d) just bellow."
   ]
  },
  {
   "cell_type": "code",
   "execution_count": null,
   "metadata": {},
   "outputs": [],
   "source": [
    "def conv1d(signal, kernel, padding=0, stride=1):\n",
    "    result = []\n",
    "    kernel_len = len(kernel)\n",
    "    signal = [0] * padding + signal.tolist() + [0] * padding\n",
    "    signal = np.array(signal)\n",
    "    for i in range(0, len(signal) - kernel_len + 1, stride):\n",
    "        # compute the convolution and add the it to the result list\n",
    "        # For the 1d convolution you need to convolut part of the curve with the kernel\n",
    "        # Hint:\n",
    "        #   - np.inner may be useful here\n",
    "\n",
    "        #############################################################\n",
    "        # your code here\n",
    "\n",
    "        conv = ...# replace with your computation\n",
    "\n",
    "        #############################################################\n",
    "        result.append(conv)\n",
    "\n",
    "    return np.array(result)"
   ]
  },
  {
   "cell_type": "markdown",
   "metadata": {},
   "source": [
    "Now test your code and visualize the result of the convolution."
   ]
  },
  {
   "cell_type": "code",
   "execution_count": null,
   "metadata": {},
   "outputs": [],
   "source": [
    "# get the time series\n",
    "np.random.seed(133)\n",
    "n = 1000\n",
    "time_serie = create_time_serie(n)\n",
    "\n",
    "# define the kernel\n",
    "kernel = np.array([1/5, 1/5, 1/5, 1/5, 1/5])\n",
    "\n",
    "# do the convolution\n",
    "result = conv1d(time_serie, kernel)\n",
    "\n",
    "# show the time series\n",
    "plt.plot(result)\n",
    "plt.show()"
   ]
  },
  {
   "cell_type": "markdown",
   "metadata": {},
   "source": [
    "**Question**\n",
    "\n",
    "1. The function conv1d, takes several arguments: x, kernel, padding, stride, please define each of this terms and how they are used in the convolution.\n",
    "2. What can you say about the kernel we choose to apply to the time series? If the time series is the evolution of a stock price, then what is the convolution doing?\n",
    "3. Look at the time series before and after the convolution, are the curves the same? If they aren't, explain the effect of the convolution.\n",
    "\n",
    "*Answer this question in your report*"
   ]
  },
  {
   "cell_type": "markdown",
   "metadata": {},
   "source": [
    "## Convolution with 2d signals\n",
    "\n",
    "Convolution in 2d is equivalent to convolution with 1d signals. With 2d signals, we need to do the convolution over both dimensions and not only one. To achieve this, the kernel should also be 2d.\n",
    "We will follow the same convention as before, but this time we will consider an image instead of a time series."
   ]
  },
  {
   "cell_type": "code",
   "execution_count": null,
   "metadata": {},
   "outputs": [],
   "source": [
    "# load images and visualize it\n",
    "image = data.camera()\n",
    "plt.imshow(image, cmap=plt.cm.gray)"
   ]
  },
  {
   "cell_type": "markdown",
   "metadata": {},
   "source": [
    "To help visualisation later, we will create a function to display two images in a row."
   ]
  },
  {
   "cell_type": "code",
   "execution_count": null,
   "metadata": {},
   "outputs": [],
   "source": [
    "def display2imgs(img1, img2):\n",
    "    _, axes = plt.subplots(ncols=2)\n",
    "    axes[0].imshow(img1, cmap=plt.cm.gray)\n",
    "    axes[0].set_title('Original')\n",
    "    axes[1].imshow(img2, cmap=plt.cm.gray)\n",
    "    axes[1].set_title('Result')"
   ]
  },
  {
   "cell_type": "markdown",
   "metadata": {},
   "source": [
    "Now we can implement the conv2d function that will take the same arguments as conv1d but will work on two dimensions."
   ]
  },
  {
   "cell_type": "code",
   "execution_count": null,
   "metadata": {},
   "outputs": [],
   "source": [
    "def conv2d(signal, kernel, padding=(0,0), stride=(1,1)):\n",
    "    result = []\n",
    "    # get sizes\n",
    "    signal_x, signal_y = signal.shape\n",
    "    kernel_len_x, kernel_len_y = kernel.shape\n",
    "    padding_x, padding_y = padding\n",
    "    stride_x, stride_y = stride\n",
    "\n",
    "    # apply padding to the 2d signal\n",
    "    #############################################################\n",
    "    # your code here\n",
    "\n",
    "    # Compute the size of the padded image\n",
    "    padded_x = ...\n",
    "    padded_y = ...\n",
    "\n",
    "    # Now create the new image padded image\n",
    "    padded_signal = ...\n",
    "\n",
    "    #############################################################\n",
    "\n",
    "    # iterating over rows\n",
    "    for i in range(0, padded_x - kernel_len_x + 1, stride_x):\n",
    "        # create empty row for the result of the convolution of the current row\n",
    "        result.append([])\n",
    "        # iterating over columns\n",
    "        for j in range(0, padded_y - kernel_len_y + 1, stride_y):\n",
    "            # compute the convolution and add the it to the result row list\n",
    "            # For the 2d convolution you need to convolut part of the signal with the kernel\n",
    "            # Hint:\n",
    "            #   - x = np.arange(4.0).reshape((2, 2))\n",
    "            # [[0. 1.]\n",
    "            # [2. 3.]]\n",
    "            #   - y = np.arange(4.0).reshape((2, 2))\n",
    "            # [[0. 1.]\n",
    "            # [2. 3.]]\n",
    "            #   - (x * y).sum() = 14,0\n",
    "\n",
    "            #############################################################\n",
    "            # your code here\n",
    "\n",
    "            conv = ...# replace with your computation\n",
    "\n",
    "            #############################################################\n",
    "            result[-1].append(conv)\n",
    "\n",
    "    return np.array(result)"
   ]
  },
  {
   "cell_type": "markdown",
   "metadata": {},
   "source": [
    "Now test your code and visualize the result of the convolution."
   ]
  },
  {
   "cell_type": "code",
   "execution_count": null,
   "metadata": {},
   "outputs": [],
   "source": [
    "# load the image\n",
    "image = data.camera()\n",
    "\n",
    "# define the kernel\n",
    "kernel = np.array(\n",
    "    [[-1,-1,-1],\n",
    "    [-1,8,-1],\n",
    "    [-1,-1,-1]])\n",
    "\n",
    "# do the convolution\n",
    "result = conv2d(image, kernel, padding=(1,1))\n",
    "\n",
    "# show the time series\n",
    "display2imgs(image, result)\n",
    "print(f\"Original image size: {image.shape}\")\n",
    "print(f\"Convoluted image size: {result.shape}\")"
   ]
  },
  {
   "cell_type": "code",
   "execution_count": null,
   "metadata": {},
   "outputs": [],
   "source": [
    "# load the image\n",
    "image = data.camera()\n",
    "print(image.shape)\n",
    "\n",
    "# define the kernel\n",
    "kernel = np.array(\n",
    "    [[0,0,0,0,0], \n",
    "    [0,0,-1,0,0], \n",
    "    [0,-1,5,-1,0], \n",
    "    [0,0,-1,0,0], \n",
    "    [0,0,0,0,0]])\n",
    "\n",
    "# do the convolution\n",
    "result = conv2d(image, kernel, padding=(0,0))\n",
    "\n",
    "# show the time series\n",
    "display2imgs(image, result)\n",
    "print(f\"Original image size: {image.shape}\")\n",
    "print(f\"Convoluted image size: {result.shape}\")"
   ]
  },
  {
   "cell_type": "code",
   "execution_count": null,
   "metadata": {},
   "outputs": [],
   "source": [
    "# load the image\n",
    "image = data.astronaut()\n",
    "image = color.rgb2gray(image)\n",
    "\n",
    "# define the kernel\n",
    "kernel = np.array(\n",
    "    [[1,4,6,4,1],\n",
    "    [4,16,24,16,4],\n",
    "    [6,24,36,24,6],\n",
    "    [4,16,24,16,4],\n",
    "    [1,4,6,4,1],])\n",
    "kernel = 1/256 * kernel\n",
    "\n",
    "# do the convolution\n",
    "result = conv2d(image, kernel, padding=(2,2))\n",
    "\n",
    "# show the time series\n",
    "display2imgs(image, result)\n",
    "print(f\"Original image size: {image.shape}\")\n",
    "print(f\"Convoluted image size: {result.shape}\")"
   ]
  },
  {
   "cell_type": "markdown",
   "metadata": {},
   "source": [
    "**Question**\n",
    "\n",
    "Explain what the convolution captures from each of the examples above. Describe the kernel used and what it is useful for, etc.\n",
    "\n",
    "*Answer this question in your report*"
   ]
  },
  {
   "cell_type": "markdown",
   "metadata": {},
   "source": [
    "## Matrix Rotation\n",
    "\n",
    "Now, we will implement a rotation function that will take a dataset and a rotation matrix and will rotate the dataset according to the rotation matrix.\n",
    "\n",
    "\n",
    "First, we will create a dataset that we will use later, and create a function that will help us visualize."
   ]
  },
  {
   "cell_type": "code",
   "execution_count": null,
   "metadata": {},
   "outputs": [],
   "source": [
    "np.random.seed(131)\n",
    "\n",
    "def create_dataset(n, a=1., b=0., sigma=10.):\n",
    "    x = np.arange(n).reshape(n)\n",
    "    y = a * x + b\n",
    "\n",
    "    noise = np.random.normal(0, sigma, size=(n))\n",
    "    y += noise\n",
    "    return np.array([x,y])\n",
    "\n",
    "dataset = create_dataset(100)\n",
    "\n",
    "# show the dataset\n",
    "plt.scatter(dataset[0], dataset[1])\n"
   ]
  },
  {
   "cell_type": "code",
   "execution_count": null,
   "metadata": {},
   "outputs": [],
   "source": [
    "def display2datasets(dataset1, dataset2):\n",
    "    plt.ion()\n",
    "    _, axes = plt.subplots(ncols=2)\n",
    "    axes[0].scatter(dataset1[0], dataset1[1])\n",
    "    axes[0].set_title('Original')\n",
    "    axes[1].scatter(dataset2[0], dataset2[1])\n",
    "    axes[1].set_title('Rotation')"
   ]
  },
  {
   "cell_type": "markdown",
   "metadata": {},
   "source": [
    "It is time for you to code! Implement the missing parts below."
   ]
  },
  {
   "cell_type": "code",
   "execution_count": null,
   "metadata": {},
   "outputs": [],
   "source": [
    "def get_rotation_matrix(angle):\n",
    "    rotation_matrix = np.zeros((2,2))\n",
    "    #############################################################\n",
    "    # your code here\n",
    "    \n",
    "    # angle should be in radians so cast it to radians\n",
    "    angle = ...\n",
    "\n",
    "    rotation_matrix = ...# replace with your implementation\n",
    "\n",
    "    #############################################################\n",
    "    return rotation_matrix"
   ]
  },
  {
   "cell_type": "markdown",
   "metadata": {},
   "source": [
    "Now that you have implemented the get_rotation_matrix, we can apply this matrix to the dataset and observe the result."
   ]
  },
  {
   "cell_type": "code",
   "execution_count": null,
   "metadata": {},
   "outputs": [],
   "source": [
    "def apply_rotation(dataset, angle):\n",
    "    rotation_matrix = get_rotation_matrix(angle)\n",
    "    rotated_dataset = np.zeros(dataset.shape)\n",
    "\n",
    "    #############################################################\n",
    "    # your code here\n",
    "\n",
    "    rotated_dataset = ...# replace with your implementation\n",
    "\n",
    "    #############################################################\n",
    "    return rotated_dataset"
   ]
  },
  {
   "cell_type": "code",
   "execution_count": null,
   "metadata": {},
   "outputs": [],
   "source": [
    "np.random.seed(131)\n",
    "dataset = create_dataset(100)\n",
    "display2datasets(dataset, apply_rotation(dataset, 90))"
   ]
  },
  {
   "cell_type": "markdown",
   "metadata": {},
   "source": [
    "**Question**\n",
    "\n",
    "Explain what you see in the above figure, what does the rotation matrix do to the dataset? Does the distance change between the points in the dataset after a rotation ? If the distance between the points changes, give the formula to compute the new distance.\n",
    "\n",
    "*Answer this question in your report*"
   ]
  },
  {
   "cell_type": "markdown",
   "metadata": {},
   "source": [
    "You can now play with the following animation, and see what happens to the dataset when you rotate it from 0 to 360 degrees"
   ]
  },
  {
   "cell_type": "code",
   "execution_count": null,
   "metadata": {},
   "outputs": [],
   "source": [
    "np.random.seed(131)\n",
    "dataset = create_dataset(100)\n",
    "\n",
    "import matplotlib.animation\n",
    "\n",
    "plt.rcParams[\"animation.html\"] = \"jshtml\"\n",
    "plt.ioff()\n",
    "fig, ax = plt.subplots()\n",
    "\n",
    "def animate(t):\n",
    "    angle = t*10\n",
    "    plt.cla()\n",
    "    dataset_rotated = apply_rotation(dataset, angle)\n",
    "    plt.scatter(dataset_rotated[0], dataset_rotated[1])\n",
    "    plt.title(f\"Angle: {angle}°\")\n",
    "    plt.xlim(-150,150)\n",
    "    plt.ylim(-150,150)\n",
    "\n",
    "matplotlib.animation.FuncAnimation(fig, animate, frames=37)"
   ]
  }
 ],
 "metadata": {
  "kernelspec": {
   "display_name": "dataScienceMain",
   "language": "python",
   "name": "python3"
  },
  "language_info": {
   "codemirror_mode": {
    "name": "ipython",
    "version": 3
   },
   "file_extension": ".py",
   "mimetype": "text/x-python",
   "name": "python",
   "nbconvert_exporter": "python",
   "pygments_lexer": "ipython3",
   "version": "3.12.6"
  },
  "orig_nbformat": 4
 },
 "nbformat": 4,
 "nbformat_minor": 2
}
